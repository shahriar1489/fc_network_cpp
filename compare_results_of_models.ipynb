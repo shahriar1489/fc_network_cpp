{
 "cells": [
  {
   "cell_type": "code",
   "execution_count": 11,
   "id": "b5402519",
   "metadata": {},
   "outputs": [],
   "source": [
    "import numpy as np \n",
    "import os \n",
    "import sys \n",
    "\n",
    "\n",
    "#onnx_model_path = os.path.join(\"model\", \"onnx\")\n",
    "#pth_model_path = os.path.join(\"model\", \"pytorch\")\n",
    "\n",
    "onnx_results_path = os.path.join(\"results\", \"onnx\")\n",
    "pth_results_path = os.path.join(\"results\", \"pth\")\n",
    "error_rate_path = os.path.join(\"results\", \"error_rate.txt\")\n",
    "\n",
    "model_files = [\n",
    "    'model_01_sample_01.txt',\n",
    "    'model_01_sample_02.txt',\n",
    "    'model_01_sample_03.txt',\n",
    "    'model_01_sample_04.txt',\n",
    "    'model_01_sample_05.txt',\n",
    "    'model_02_sample_01.txt',\n",
    "    'model_02_sample_02.txt',\n",
    "    'model_02_sample_03.txt',\n",
    "    'model_02_sample_04.txt',\n",
    "    'model_02_sample_05.txt',\n",
    "    'model_03_sample_01.txt',\n",
    "    'model_03_sample_02.txt',\n",
    "    'model_03_sample_03.txt',\n",
    "    'model_03_sample_04.txt',\n",
    "    'model_03_sample_05.txt',\n",
    "    'model_04_sample_01.txt',\n",
    "    'model_04_sample_02.txt',\n",
    "    'model_04_sample_03.txt',\n",
    "    'model_04_sample_04.txt',\n",
    "    'model_04_sample_05.txt',\n",
    "    'model_05_sample_01.txt',\n",
    "    'model_05_sample_02.txt',\n",
    "    'model_05_sample_03.txt',\n",
    "    'model_05_sample_04.txt',\n",
    "    'model_05_sample_05.txt'\n",
    "]"
   ]
  },
  {
   "cell_type": "code",
   "execution_count": 12,
   "id": "8352c4d8",
   "metadata": {},
   "outputs": [
    {
     "name": "stdout",
     "output_type": "stream",
     "text": [
      "Error rates saved to results/error_rate.txt\n"
     ]
    }
   ],
   "source": [
    "# Function to calculate absolute difference line by line\n",
    "def calculate_absolute_difference(onnx_file, pth_file):\n",
    "    differences = []\n",
    "    with open(onnx_file, 'r') as f1, open(pth_file, 'r') as f2:\n",
    "        onnx_lines = f1.readlines()\n",
    "        pth_lines = f2.readlines()\n",
    "        \n",
    "        for onnx_value, pth_value in zip(onnx_lines, pth_lines):\n",
    "            # Convert to float and calculate absolute difference\n",
    "            abs_diff = abs(float(onnx_value.strip()) - float(pth_value.strip()))\n",
    "            differences.append(abs_diff)\n",
    "    return differences\n",
    "\n",
    "# Open the error_rate.txt file for writing\n",
    "with open(error_rate_path, 'w') as error_file:\n",
    "    # Iterate over all model files\n",
    "    for model_file in model_files:\n",
    "        onnx_file_path = os.path.join(onnx_results_path, model_file)\n",
    "        pth_file_path = os.path.join(pth_results_path, model_file)\n",
    "\n",
    "        # Calculate absolute differences for each file\n",
    "        abs_diffs = calculate_absolute_difference(onnx_file_path, pth_file_path)\n",
    "\n",
    "        # Write results to error_rate.txt\n",
    "        error_file.write(f\"Absolute differences for {model_file}:\\n\")\n",
    "        for idx, diff in enumerate(abs_diffs, start=1):\n",
    "            error_file.write(f\"Line {idx}: {diff}\\n\")\n",
    "        error_file.write(\"\\n\")  # Add a newline for separation between models\n",
    "\n",
    "print(f\"Error rates saved to {error_rate_path}\")"
   ]
  }
 ],
 "metadata": {
  "kernelspec": {
   "display_name": "Python 3 (ipykernel)",
   "language": "python",
   "name": "python3"
  },
  "language_info": {
   "codemirror_mode": {
    "name": "ipython",
    "version": 3
   },
   "file_extension": ".py",
   "mimetype": "text/x-python",
   "name": "python",
   "nbconvert_exporter": "python",
   "pygments_lexer": "ipython3",
   "version": "3.11.5"
  }
 },
 "nbformat": 4,
 "nbformat_minor": 5
}
