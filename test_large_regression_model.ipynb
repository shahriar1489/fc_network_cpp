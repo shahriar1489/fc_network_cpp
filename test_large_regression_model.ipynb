{
 "cells": [
  {
   "cell_type": "code",
   "execution_count": 1,
   "id": "55654c3c",
   "metadata": {},
   "outputs": [],
   "source": [
    "import torch\n",
    "import numpy as np\n",
    "import os\n",
    "\n",
    "import torch\n",
    "import torch.nn as nn"
   ]
  },
  {
   "cell_type": "code",
   "execution_count": 2,
   "id": "59a72e7b",
   "metadata": {},
   "outputs": [],
   "source": [
    "# Define the neural network architecture\n",
    "class RegressionNN(nn.Module):\n",
    "    def __init__(self):\n",
    "        super(RegressionNN, self).__init__()\n",
    "        self.layers = nn.Sequential(\n",
    "            nn.Linear(3, 64),   # Input layer for 3 features\n",
    "            nn.ReLU(),\n",
    "            nn.Linear(64, 128),\n",
    "            nn.ReLU(),\n",
    "            nn.Linear(128, 256),\n",
    "            nn.ReLU(),\n",
    "            nn.Linear(256, 128),\n",
    "            nn.ReLU(),\n",
    "            nn.Linear(128, 64),\n",
    "            nn.ReLU(),\n",
    "            nn.Linear(64, 32),\n",
    "            nn.ReLU(),\n",
    "            nn.Linear(32, 1)    # Output layer for 1 target output\n",
    "        )\n",
    "\n",
    "    def forward(self, x):\n",
    "        return self.layers(x)"
   ]
  },
  {
   "cell_type": "code",
   "execution_count": 5,
   "id": "70f312cb",
   "metadata": {},
   "outputs": [
    {
     "name": "stdout",
     "output_type": "stream",
     "text": [
      "Predictions saved to results/pth/regression_test.txt\n"
     ]
    }
   ],
   "source": [
    "# Define paths\n",
    "model_path = 'model/pth/regression_model.pth'\n",
    "test_data_path = 'data/regression_test.txt'\n",
    "output_path = 'results/pth/regression_test.txt'\n",
    "\n",
    "# Ensure output directory exists\n",
    "os.makedirs(os.path.dirname(output_path), exist_ok=True)\n",
    "\n",
    "# Load the pretrained model\n",
    "model = RegressionNN()  # Make sure this matches the saved model architecture\n",
    "model.load_state_dict(torch.load(model_path))\n",
    "model.eval()  # Set model to evaluation mode\n",
    "\n",
    "# Load test data from the text file\n",
    "test_data = []\n",
    "with open(test_data_path, 'r') as f:\n",
    "    for line in f:\n",
    "        values = list(map(float, line.strip().split(', ')))  # Split by comma and convert to float\n",
    "        test_data.append(values)\n",
    "\n",
    "# Separate features (X) from the loaded test data\n",
    "test_data = np.array(test_data)\n",
    "X_test = test_data[:, :-1]  # All columns except the last one are features\n",
    "\n",
    "# Convert test features to a PyTorch tensor\n",
    "X_test_tensor = torch.tensor(X_test, dtype=torch.float32)\n",
    "\n",
    "# Run predictions on the test data\n",
    "with torch.no_grad():  # No need to calculate gradients\n",
    "    predictions = model(X_test_tensor).squeeze().tolist()\n",
    "\n",
    "# Save predictions to the specified output file\n",
    "with open(output_path, 'w') as f:\n",
    "    for prediction in predictions:\n",
    "        f.write(f\"{prediction}\\n\")\n",
    "\n",
    "print(f\"Predictions saved to {output_path}\")\n"
   ]
  }
 ],
 "metadata": {
  "kernelspec": {
   "display_name": "Python 3 (ipykernel)",
   "language": "python",
   "name": "python3"
  },
  "language_info": {
   "codemirror_mode": {
    "name": "ipython",
    "version": 3
   },
   "file_extension": ".py",
   "mimetype": "text/x-python",
   "name": "python",
   "nbconvert_exporter": "python",
   "pygments_lexer": "ipython3",
   "version": "3.11.5"
  }
 },
 "nbformat": 4,
 "nbformat_minor": 5
}
