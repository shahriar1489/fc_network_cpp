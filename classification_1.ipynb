{
 "cells": [
  {
   "cell_type": "markdown",
   "id": "a0ad69b8",
   "metadata": {},
   "source": [
    "## 5 Layer Neural Network for Binary Classification"
   ]
  },
  {
   "cell_type": "code",
   "execution_count": 3,
   "id": "8e7b751b",
   "metadata": {},
   "outputs": [],
   "source": [
    "import torch\n",
    "import torch.nn as nn\n",
    "import torch.optim as optim\n",
    "from sklearn.datasets import make_classification\n",
    "from sklearn.model_selection import train_test_split\n",
    "from sklearn.preprocessing import StandardScaler\n",
    "from sklearn.metrics import accuracy_score\n",
    "import numpy as np\n"
   ]
  },
  {
   "cell_type": "markdown",
   "id": "74a28cba",
   "metadata": {},
   "source": [
    "### Generate synthetic data"
   ]
  },
  {
   "cell_type": "code",
   "execution_count": 4,
   "id": "f6d4d598",
   "metadata": {},
   "outputs": [],
   "source": [
    "def generate_dataset():\n",
    "    X, y = make_classification(\n",
    "        n_samples=2000, n_features=10, n_informative=5, n_redundant=2,\n",
    "        n_classes=2, random_state=42\n",
    "    )\n",
    "    return X, y"
   ]
  },
  {
   "cell_type": "markdown",
   "id": "27f7b3d9",
   "metadata": {},
   "source": [
    "### Define the neural network class\n"
   ]
  },
  {
   "cell_type": "code",
   "execution_count": 5,
   "id": "218d5a0f",
   "metadata": {},
   "outputs": [],
   "source": [
    "class FiveLayerNN(nn.Module):\n",
    "    def __init__(self, input_size, hidden_size, output_size):\n",
    "        super(FiveLayerNN, self).__init__()\n",
    "        self.network = nn.Sequential(\n",
    "            nn.Linear(input_size, hidden_size),\n",
    "            nn.ReLU(),\n",
    "            \n",
    "            nn.Linear(hidden_size, hidden_size),\n",
    "            nn.ReLU(),\n",
    "            \n",
    "            nn.Linear(hidden_size, hidden_size),\n",
    "            nn.ReLU(),\n",
    "            \n",
    "            nn.Linear(hidden_size, hidden_size),\n",
    "            nn.ReLU(),\n",
    "            \n",
    "            nn.Linear(hidden_size, output_size),\n",
    "            nn.Sigmoid()  # Output layer for binary classification\n",
    "        )\n",
    "\n",
    "    def forward(self, x):\n",
    "        return self.network(x)\n"
   ]
  },
  {
   "cell_type": "markdown",
   "id": "fad75ee0",
   "metadata": {},
   "source": [
    "### Prepare data"
   ]
  },
  {
   "cell_type": "code",
   "execution_count": 6,
   "id": "7817ece9",
   "metadata": {},
   "outputs": [],
   "source": [
    "X, y = generate_dataset()\n",
    "scaler = StandardScaler()\n",
    "X = scaler.fit_transform(X)\n",
    "\n",
    "X_train, X_test, y_train, y_test = train_test_split(X, y, test_size=0.2, random_state=42)\n",
    "\n",
    "# Convert data to PyTorch tensors\n",
    "X_train = torch.tensor(X_train, dtype=torch.float32)\n",
    "X_test = torch.tensor(X_test, dtype=torch.float32)\n",
    "y_train = torch.tensor(y_train, dtype=torch.float32).view(-1, 1)\n",
    "y_test = torch.tensor(y_test, dtype=torch.float32).view(-1, 1)\n",
    "\n",
    "# Model parameters\n",
    "input_size = X_train.shape[1]\n",
    "hidden_size = 64\n",
    "output_size = 1\n"
   ]
  },
  {
   "cell_type": "markdown",
   "id": "fd998d5d",
   "metadata": {},
   "source": [
    "### Initialize model, loss function, and optimizer "
   ]
  },
  {
   "cell_type": "code",
   "execution_count": 7,
   "id": "7f16eedd",
   "metadata": {},
   "outputs": [],
   "source": [
    "model = FiveLayerNN(input_size, hidden_size, output_size)\n",
    "criterion = nn.BCELoss()  # Binary Cross-Entropy Loss\n",
    "optimizer = optim.Adam(model.parameters(), lr=0.001)"
   ]
  },
  {
   "cell_type": "markdown",
   "id": "1cb18340",
   "metadata": {},
   "source": [
    "### Train the model "
   ]
  },
  {
   "cell_type": "code",
   "execution_count": 8,
   "id": "8cb6f1ee",
   "metadata": {},
   "outputs": [
    {
     "name": "stdout",
     "output_type": "stream",
     "text": [
      "Epoch [10/100], Loss: 0.6669\n",
      "Epoch [20/100], Loss: 0.5884\n",
      "Epoch [30/100], Loss: 0.4354\n",
      "Epoch [40/100], Loss: 0.3084\n",
      "Epoch [50/100], Loss: 0.2454\n",
      "Epoch [60/100], Loss: 0.2103\n",
      "Epoch [70/100], Loss: 0.1909\n",
      "Epoch [80/100], Loss: 0.1742\n",
      "Epoch [90/100], Loss: 0.1586\n",
      "Epoch [100/100], Loss: 0.1407\n"
     ]
    }
   ],
   "source": [
    "# Training loop\n",
    "def train_model(model, X_train, y_train, epochs=100):\n",
    "    for epoch in range(epochs):\n",
    "        # Forward pass\n",
    "        outputs = model(X_train)\n",
    "        loss = criterion(outputs, y_train)\n",
    "\n",
    "        # Backward pass and optimization\n",
    "        optimizer.zero_grad()\n",
    "        loss.backward()\n",
    "        optimizer.step()\n",
    "\n",
    "        if (epoch + 1) % 10 == 0:\n",
    "            print(f\"Epoch [{epoch + 1}/{epochs}], Loss: {loss.item():.4f}\")\n",
    "\n",
    "# Train the model\n",
    "train_model(model, X_train, y_train, epochs=100)"
   ]
  },
  {
   "cell_type": "markdown",
   "id": "51637492",
   "metadata": {},
   "source": [
    "### Test the model"
   ]
  },
  {
   "cell_type": "code",
   "execution_count": 9,
   "id": "9bacdd04",
   "metadata": {},
   "outputs": [
    {
     "name": "stdout",
     "output_type": "stream",
     "text": [
      "Test Accuracy: 0.9100\n"
     ]
    }
   ],
   "source": [
    "# Evaluate the model\n",
    "model.eval()\n",
    "with torch.no_grad():\n",
    "    y_pred = model(X_test)\n",
    "    y_pred_labels = (y_pred >= 0.5).float()\n",
    "    accuracy = accuracy_score(y_test.numpy(), y_pred_labels.numpy())\n",
    "    print(f\"Test Accuracy: {accuracy:.4f}\")\n",
    "\n"
   ]
  },
  {
   "cell_type": "markdown",
   "id": "6b7149f0",
   "metadata": {},
   "source": [
    "### Save the test data and model "
   ]
  },
  {
   "cell_type": "code",
   "execution_count": 10,
   "id": "e80002fa",
   "metadata": {},
   "outputs": [
    {
     "name": "stdout",
     "output_type": "stream",
     "text": [
      "Test data saved to data/classification_1.txt\n",
      "Model saved to model/pth/classification_1_model.pth\n",
      "Model saved in ONNX format to model/onnx/classification_1_model.onnx\n"
     ]
    }
   ],
   "source": [
    "# Define the file path\n",
    "file_path = 'data/classification_1.txt'\n",
    "\n",
    "# Combine features and output for each test instance\n",
    "test_data = np.hstack((X_test, y_test.numpy().reshape(-1, 1)))\n",
    "\n",
    "# Save to file without brackets\n",
    "with open(file_path, 'w') as f:\n",
    "    for row in test_data:\n",
    "        # Write row as a comma-separated line without brackets\n",
    "        f.write(\", \".join(map(str, row)) + \"\\n\")\n",
    "\n",
    "print(f\"Test data saved to {file_path}\")\n",
    "\n",
    "# Define the full path for saving the model\n",
    "model_path = 'model/pth/classification_1_model.pth'\n",
    "\n",
    "# Save the model parameters\n",
    "torch.save(model.state_dict(), model_path)\n",
    "\n",
    "print(f\"Model saved to {model_path}\")\n",
    "\n",
    "# Define the path for the ONNX file\n",
    "onnx_path = 'model/onnx/classification_1_model.onnx'\n",
    "\n",
    "# Specify a dummy input to trace the model's structure\n",
    "dummy_input = torch.randn(1, input_size)  # Adjust the shape based on your model's input requirements\n",
    "\n",
    "# Export the model to ONNX format\n",
    "torch.onnx.export(\n",
    "    model,                        # Model to be exported\n",
    "    dummy_input,                  # Dummy input tensor to define the input size\n",
    "    onnx_path,                    # Path to save the ONNX model\n",
    "    export_params=True,           # Store the trained parameter weights inside the model file\n",
    "    opset_version=11,             # ONNX version to export to\n",
    "    input_names=['input'],        # Name of the input layer\n",
    "    output_names=['output'],      # Name of the output layer\n",
    "    dynamic_axes={'input': {0: 'batch_size'}, 'output': {0: 'batch_size'}}  # Dynamic batching\n",
    ")\n",
    "\n",
    "print(f\"Model saved in ONNX format to {onnx_path}\")\n"
   ]
  }
 ],
 "metadata": {
  "kernelspec": {
   "display_name": "Python 3 (ipykernel)",
   "language": "python",
   "name": "python3"
  },
  "language_info": {
   "codemirror_mode": {
    "name": "ipython",
    "version": 3
   },
   "file_extension": ".py",
   "mimetype": "text/x-python",
   "name": "python",
   "nbconvert_exporter": "python",
   "pygments_lexer": "ipython3",
   "version": "3.11.5"
  }
 },
 "nbformat": 4,
 "nbformat_minor": 5
}
