{
 "cells": [
  {
   "cell_type": "code",
   "execution_count": 3,
   "id": "28c77b40",
   "metadata": {},
   "outputs": [
    {
     "name": "stdout",
     "output_type": "stream",
     "text": [
      "Absolute differences saved to results/regression_error_rate.txt\n"
     ]
    }
   ],
   "source": [
    "import os\n",
    "\n",
    "# Define file paths\n",
    "onnx_path = 'results/onnx/regression_test.txt'\n",
    "pth_path = 'results/pth/regression_test.txt'\n",
    "output_path = 'results/regression_error_rate.txt'\n",
    "\n",
    "# Check if both files exist\n",
    "if not os.path.exists(onnx_path) or not os.path.exists(pth_path):\n",
    "    raise FileNotFoundError(\"One or both of the input files do not exist.\")\n",
    "\n",
    "# Read data from both files\n",
    "with open(onnx_path, 'r') as f_onnx, open(pth_path, 'r') as f_pth:\n",
    "    onnx_data = [float(line.strip()) for line in f_onnx if line.strip()]\n",
    "    pth_data = [float(line.strip()) for line in f_pth if line.strip()]\n",
    "\n",
    "# Ensure both files have the same number of entries\n",
    "if len(onnx_data) != len(pth_data):\n",
    "    raise ValueError(\"The files do not contain the same number of entries.\")\n",
    "\n",
    "# Calculate absolute difference\n",
    "absolute_differences = [abs(o - p) for o, p in zip(onnx_data, pth_data)]\n",
    "\n",
    "# Save the absolute differences to the output file\n",
    "os.makedirs(os.path.dirname(output_path), exist_ok=True)\n",
    "with open(output_path, 'w') as f_output:\n",
    "    for diff in absolute_differences:\n",
    "        f_output.write(f\"{diff:.16f}\\n\")\n",
    "\n",
    "print(f\"Absolute differences saved to {output_path}\")\n"
   ]
  }
 ],
 "metadata": {
  "kernelspec": {
   "display_name": "Python 3 (ipykernel)",
   "language": "python",
   "name": "python3"
  },
  "language_info": {
   "codemirror_mode": {
    "name": "ipython",
    "version": 3
   },
   "file_extension": ".py",
   "mimetype": "text/x-python",
   "name": "python",
   "nbconvert_exporter": "python",
   "pygments_lexer": "ipython3",
   "version": "3.11.5"
  }
 },
 "nbformat": 4,
 "nbformat_minor": 5
}
